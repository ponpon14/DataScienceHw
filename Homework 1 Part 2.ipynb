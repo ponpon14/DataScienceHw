{
 "cells": [
  {
   "cell_type": "markdown",
   "metadata": {},
   "source": [
    "# Homework 1 Part 2\n",
    "\n",
    "**Due: Monday, September 16, 11:59 PM**\n",
    "\n",
    "This is an individual assignment."
   ]
  },
  {
   "cell_type": "markdown",
   "metadata": {},
   "source": [
    "## Description\n",
    "\n",
    "Create or edit this Jupyter Notebook to answer the questions below. Use simulations to answer these questions. An analytical solution can be useful to check if your simulation is correct but analytical solutions alone will not be accepted as a solution to a problem."
   ]
  },
  {
   "cell_type": "code",
   "execution_count": 3,
   "metadata": {},
   "outputs": [],
   "source": [
    "import random\n",
    "import numpy.random as npr\n",
    "import numpy as np\n",
    "\n",
    "import matplotlib.pyplot as plt\n",
    "%matplotlib inline\n",
    "plt.style.use('ggplot')"
   ]
  },
  {
   "cell_type": "markdown",
   "metadata": {},
   "source": [
    "## Problem 7\n",
    "\n",
    "Consider repeatedly rolling a fair 6-sided die.\n",
    "\n",
    "1. Create a simulation to compute the probability that the top face will be 6 at least once on 3 rolls of the die?\n",
    "2. Create a simulation to compute the probability that the top face will be 6 at least once on 6 rolls of the die?\n",
    "3. Create a simulation to compute how many rolls of the die would you have to do to be 90% confident that you would see at least one 6?\n",
    "4. Using the formula you have computed in problem 2 part 4, make a Python function that takes in the target value $p$ and outputs the required number of rolls of an integer. \n",
    "    1. Find the values for $p=0.95$ and $p=0.99$. \n",
    "    2. Use your simulation to verify that the number of rolls you specified is sufficient to achieve $p\\geq 0.95$."
   ]
  },
  {
   "cell_type": "code",
   "execution_count": 5,
   "metadata": {},
   "outputs": [
    {
     "name": "stdout",
     "output_type": "stream",
     "text": [
      "Probability that die's top face will be 6 at least once on 3 rolls of the die  0.42193\n"
     ]
    }
   ],
   "source": [
    "# 1\n",
    "count=0\n",
    "#for i in range (0,3):\n",
    "    \n",
    " #   if dice == 6:\n",
    "#        count += 1\n",
    "#prob = count/3\n",
    "#print(f\"Probabilty = {prob}\")\n",
    "\n",
    "num_simulations=100_000\n",
    "dice = npr.randint(1,7,size=(num_simulations,3))\n",
    "count = np.sum(np.any(dice==6,axis=1))\n",
    "print(\"Probability that die's top face will be 6 at least once on 3 rolls of the die \", count/100000)"
   ]
  },
  {
   "cell_type": "code",
   "execution_count": 6,
   "metadata": {},
   "outputs": [
    {
     "name": "stdout",
     "output_type": "stream",
     "text": [
      "Probability that die's top face will be 6 at least once on 6 rolls of the die  0.6665\n"
     ]
    }
   ],
   "source": [
    "#2\n",
    "count=0\n",
    "num_simulation=100_000\n",
    "dice = npr.randint(1,7,size=(num_simulation,6))\n",
    "count = np.sum(np.any(dice==6,axis=1))\n",
    "print(\"Probability that die's top face will be 6 at least once on 6 rolls of the die \", count/100000)"
   ]
  },
  {
   "cell_type": "code",
   "execution_count": 7,
   "metadata": {},
   "outputs": [
    {
     "name": "stdout",
     "output_type": "stream",
     "text": [
      "12.62925313651334\n"
     ]
    }
   ],
   "source": [
    "\n",
    "#3\n",
    "p = .9\n",
    "n = (np.log(1 - p) / np.log(5/6))\n",
    "print(n)"
   ]
  },
  {
   "cell_type": "code",
   "execution_count": 8,
   "metadata": {},
   "outputs": [
    {
     "name": "stdout",
     "output_type": "stream",
     "text": [
      "16.431037153437263\n",
      "25.258506273026672\n"
     ]
    }
   ],
   "source": [
    "#4a\n",
    "p = [.95, .99]\n",
    "for i in p:\n",
    "    n = (np.log(1 - i) / np.log(5/6))\n",
    "    print(n)"
   ]
  },
  {
   "cell_type": "code",
   "execution_count": 9,
   "metadata": {},
   "outputs": [],
   "source": [
    "#4b\n",
    "#you would need around 17 rolls."
   ]
  },
  {
   "cell_type": "markdown",
   "metadata": {},
   "source": [
    "## Problem 8\n",
    "\n",
    "Create a simulation function where you will roll a fair 6-sided die 20 times and count the number of times the face $x$ comes up on the top face of the die. \n",
    "\n",
    "* In your simulation, create a list that will store the number of times it came up $x$ on the top face of the die.\n",
    "* Create a plot of unique counts vs their relative frequency\n",
    "\n",
    "Using your simulation function, run it for:\n",
    "\n",
    "1. $x=3$\n",
    "\n",
    "2. $x=[5,6]$, that is, probability of observing a 5 or a 6 on the top face.\n",
    "\n",
    "3. $x=[1,2,3]$, that is, probability of observing a 1, 2 or 3 on the top face.\n",
    "\n",
    "For both cases, comment the plotting results. For a *sufficient* amount of simulations, does it behave as *expected*?"
   ]
  },
  {
   "cell_type": "code",
   "execution_count": 11,
   "metadata": {},
   "outputs": [
    {
     "data": {
      "text/plain": [
       "Text(0.5, 1.0, 'Unique Counts vs Relative frequency')"
      ]
     },
     "execution_count": 11,
     "metadata": {},
     "output_type": "execute_result"
    },
    {
     "data": {
      "image/png": "[encoded data removed]",
      "text/plain": [
       "<Figure size 640x480 with 1 Axes>"
      ]
     },
     "metadata": {},
     "output_type": "display_data"
    }
   ],
   "source": [
    "num_simulation = 100000\n",
    "dice = npr.randint(1,7,size=(num_simulation,20))\n",
    "count = np.sum(dice == 3 , axis=1) # change the dice to accomdate for the other values\n",
    "uniquecounts, counts = np.unique(count,return_counts=True)\n",
    "total = np.sum(counts)\n",
    "freq = counts/total\n",
    "plt.bar(uniquecounts,(counts/total))\n",
    "plt.xlabel('Relative Frequency')\n",
    "plt.ylabel('Unique Counts')\n",
    "plt.title('Unique Counts vs Relative frequency')"
   ]
  },
  {
   "cell_type": "code",
   "execution_count": 12,
   "metadata": {},
   "outputs": [
    {
     "data": {
      "text/plain": [
       "Text(0.5, 1.0, 'Unique Counts vs Relative frequency')"
      ]
     },
     "execution_count": 12,
     "metadata": {},
     "output_type": "execute_result"
    },
    {
     "data": {
      "image/png": "[encoded data removed]",
      "text/plain": [
       "<Figure size 640x480 with 1 Axes>"
      ]
     },
     "metadata": {},
     "output_type": "display_data"
    }
   ],
   "source": [
    "x = [5,6] #change x depending on what you need\n",
    "num_simulation = 100000\n",
    "dice = npr.randint(1,7,size=(num_simulation,20))\n",
    "count = np.sum((dice == 5) | (dice == 6) , axis=1) # change the dice to accomdate for the other values\n",
    "uniquecounts, counts = np.unique(count,return_counts=True)\n",
    "total = np.sum(counts)\n",
    "freq = counts/total\n",
    "plt.bar(uniquecounts,(counts/total))\n",
    "plt.xlabel('Relative Frequency')\n",
    "plt.ylabel('Unique Counts')\n",
    "plt.title('Unique Counts vs Relative frequency')"
   ]
  },
  {
   "cell_type": "code",
   "execution_count": 13,
   "metadata": {},
   "outputs": [
    {
     "data": {
      "text/plain": [
       "Text(0.5, 1.0, 'Unique Counts vs Relative frequency')"
      ]
     },
     "execution_count": 13,
     "metadata": {},
     "output_type": "execute_result"
    },
    {
     "data": {
      "image/png": "[encoded data removed]",
      "text/plain": [
       "<Figure size 640x480 with 1 Axes>"
      ]
     },
     "metadata": {},
     "output_type": "display_data"
    }
   ],
   "source": [
    "x = [1,2,3] #change x depending on what you need\n",
    "num_simulation = 100000\n",
    "dice = npr.randint(1,7,size=(num_simulation,20))\n",
    "count = np.sum((dice == 1) | (dice == 2) | (dice == 3) , axis=1) # change the dice to accomdate for the other values\n",
    "uniquecounts, counts = np.unique(count,return_counts=True)\n",
    "total = np.sum(counts)\n",
    "freq = counts/total\n",
    "plt.bar(uniquecounts,(counts/total))\n",
    "plt.xlabel('Relative Frequency')\n",
    "plt.ylabel('Unique Counts')\n",
    "plt.title('Unique Counts vs Relative frequency')"
   ]
  },
  {
   "cell_type": "markdown",
   "metadata": {},
   "source": [
    "## Problem 9\n",
    "\n",
    "Suppose that you have a bag with 3 coins. One of them is a fair coin, but the others are biased trick coins. When flipped, the three coins come up heads with probability $\\frac{1}{2}$, $\\frac{2}{3}$, and $\\frac{1}{5}$, respectively.\n",
    "\n",
    "Consider the experiment where you pick one coin at random and flip it three times. Let $H_i$ be the event that the coin comes up heads on flip $i$. What is the probability of the outcome $H_1\\cap H_2\\cap \\overline{H_3}$?"
   ]
  },
  {
   "cell_type": "code",
   "execution_count": 15,
   "metadata": {},
   "outputs": [
    {
     "name": "stdout",
     "output_type": "stream",
     "text": [
      "2\n",
      "Probabilty of the outcome is 2e-05\n"
     ]
    }
   ],
   "source": [
    "num_simulations= 100000\n",
    "def coinflip():\n",
    "    a = [\"h\",\"t\"]\n",
    "    b = [\"h\",\"h\",\"t\"]\n",
    "    c = [\"h\",\"t\",\"t\",\"t\",\"t\"]\n",
    "    coins = [a,b,c]\n",
    "    prob = 0\n",
    "    total = 0\n",
    "    for t in range(num_simulations):\n",
    "        turn = 0\n",
    "        random.shuffle(coins)\n",
    "        final = coins[0]\n",
    "        for i in range(0,3):\n",
    "            turn += 1\n",
    "            if turn == 3:\n",
    "                value = random.choices(final)\n",
    "                if value[0] == 't':\n",
    "                    prob += 1\n",
    "                else:\n",
    "                    pass\n",
    "            else:\n",
    "                value = random.choices(final)\n",
    "        \n",
    "                if value[0] == 'h':\n",
    "                    prob += 1\n",
    "                else:\n",
    "                    pass\n",
    "            if prob == 3:\n",
    "                total +=1\n",
    "    print(total)\n",
    "    overall = total/num_simulations\n",
    "    print(f'Probabilty of the outcome is {overall}')\n",
    "\n",
    "coinflip()"
   ]
  },
  {
   "cell_type": "markdown",
   "metadata": {},
   "source": [
    "## Problem 10\n",
    "\n",
    "In what follows, apply a significance value $\\alpha = 0.01$. That is, there must be less than a 1% probability of seeing such an extreme value under the null hypothesis before we are willing to conclude that the null hypothesis is not reasonable.\n",
    "\n",
    "* If a 6-sided die is rolled 10 times and all the values are <=4, should we feel confident that the die is not fair (i.e., reject the null hypothesis with $p=0.01$)?\n",
    "\n",
    "* Conduct the above simulation using a python function."
   ]
  },
  {
   "cell_type": "code",
   "execution_count": 17,
   "metadata": {},
   "outputs": [
    {
     "name": "stdout",
     "output_type": "stream",
     "text": [
      "Probability of all rolls being less than 4,5, or 6: 0.01836\n"
     ]
    }
   ],
   "source": [
    "num_trials=100000\n",
    "def roll_die(num_rolls=10):\n",
    "    total = 0\n",
    "    for t in range(num_trials):\n",
    "        count = 0\n",
    "        rolls = []\n",
    "        for i in range(0,10):\n",
    "            rolls += [random.randint(1, 6)]\n",
    "        for t in rolls:\n",
    "            if t <= 4:\n",
    "                count += 1\n",
    "    \n",
    "        if count == 10:\n",
    "            total += 1\n",
    "    return total\n",
    "total = roll_die()\n",
    "\n",
    "print(f'Probability of all rolls being less than 4,5, or 6: {total/num_trials}')\n",
    "\n",
    "# how to do the 10000 simulations\n",
    "#around 0.015, thus fail to reject null"
   ]
  },
  {
   "cell_type": "markdown",
   "metadata": {},
   "source": [
    "## Problem 11\n",
    "\n",
    "Consider the experiment where you pick 3 cards at random from a deck of 52 playing cards (13 cards per suit) **without replacement**, i.e., at each card selection you will not put it back in the deck, and so the number of possible outcomes will change for each new draw.\n",
    "\n",
    "Let $D_i$ denote the event the card is diamonds in the $i$th draw.\n",
    "\n",
    "Build a simulation to compute the following probabilities:\n",
    "\n",
    "1. $P(D_1)$\n",
    "\n",
    "2. $P(D_1 \\cap D_2)$\n",
    "\n",
    "3. $P(D_1 \\cap D_2 \\cap \\overline{D_3})$\n",
    "\n",
    "4. $P(D_3 \\cup D_2|D_1 )$\n",
    "\n",
    "5. $P(D_3|D_1\\cap D_2)$\n",
    "\n",
    "*Note: to sample from a set **without replacement**, consider use the function ```numpy.random.choice``` by controling the parameter ```replace```*."
   ]
  },
  {
   "cell_type": "code",
   "execution_count": 19,
   "metadata": {},
   "outputs": [
    {
     "name": "stdout",
     "output_type": "stream",
     "text": [
      "Probability of drawing diamond: 0.2489\n"
     ]
    }
   ],
   "source": [
    "#1\n",
    "num_trials = 100000\n",
    "count = 0\n",
    "\n",
    "cards = ['Heart','Club','Diamond','Spade']\n",
    "for i in range(num_trials):\n",
    "    card = npr.randint(0,4)\n",
    "    if cards[card] == 'Diamond':\n",
    "        count += 1\n",
    "print('Probability of drawing diamond:', count/num_trials)    "
   ]
  },
  {
   "cell_type": "code",
   "execution_count": 20,
   "metadata": {},
   "outputs": [
    {
     "name": "stdout",
     "output_type": "stream",
     "text": [
      "Probability of drawing diamond 1st and 2nd: 0.05959\n"
     ]
    }
   ],
   "source": [
    "#2 without replacement\n",
    "num_trials = 100000\n",
    "count = 0\n",
    "\n",
    "cards = ['Heart','Club','Diamond','Spade']*13\n",
    "for i in range(num_trials):\n",
    "    card = np.random.choice(cards,2,replace=False)\n",
    "    if card[0] == 'Diamond' and card[1] =='Diamond':\n",
    "        count += 1\n",
    "print('Probability of drawing diamond 1st and 2nd:', count/num_trials)    "
   ]
  },
  {
   "cell_type": "code",
   "execution_count": 21,
   "metadata": {},
   "outputs": [
    {
     "name": "stdout",
     "output_type": "stream",
     "text": [
      "Probability of drawing diamond 1st and 2nd and not a diamond on third 0.04637\n"
     ]
    }
   ],
   "source": [
    "#3 without replacement\n",
    "num_trials = 100000\n",
    "count = 0\n",
    "\n",
    "cards = ['Heart','Club','Diamond','Spade']*13\n",
    "for i in range(num_trials):\n",
    "    card = np.random.choice(cards,3,replace=False)\n",
    "    if card[0] == 'Diamond' and card[1] =='Diamond' and card[2] !='Diamond':\n",
    "        count += 1\n",
    "print('Probability of drawing diamond 1st and 2nd and not a diamond on third', count/num_trials)   "
   ]
  },
  {
   "cell_type": "code",
   "execution_count": 22,
   "metadata": {},
   "outputs": [
    {
     "name": "stdout",
     "output_type": "stream",
     "text": [
      "Probability: 0.1053\n"
     ]
    }
   ],
   "source": [
    "#4 without replacement\n",
    "num_trials = 100000\n",
    "count = 0\n",
    "\n",
    "cards = ['Heart','Club','Diamond','Spade']*13\n",
    "for i in range(num_trials):\n",
    "    card = np.random.choice(cards,3,replace=False)\n",
    "    if card[0] == 'Diamond':\n",
    "        if card[1] =='Diamond' or card[2] =='Diamond':\n",
    "            count += 1\n",
    "    else:\n",
    "        pass\n",
    "print('Probability:', count/num_trials)  "
   ]
  },
  {
   "cell_type": "code",
   "execution_count": 23,
   "metadata": {},
   "outputs": [
    {
     "name": "stdout",
     "output_type": "stream",
     "text": [
      "Probability:  0.01287\n"
     ]
    }
   ],
   "source": [
    "#5 without replacement\n",
    "num_trials = 100000\n",
    "count = 0\n",
    "\n",
    "cards = ['Heart','Club','Diamond','Spade']*13\n",
    "for i in range(num_trials):\n",
    "    card = np.random.choice(cards,3,replace=False)\n",
    "    if card[1] =='Diamond' and card[0] =='Diamond':\n",
    "        if card[2] == 'Diamond':\n",
    "            count += 1\n",
    "    else:\n",
    "        pass\n",
    "print('Probability: ', count/num_trials)  "
   ]
  },
  {
   "cell_type": "markdown",
   "metadata": {},
   "source": [
    "## Problem 12\n",
    "\n",
    "Suppose that you have 6 coins: 2 fair coins and 4 unfair coins. When flipped, the coins flip heads with probability 0.5, 0.5, 0.8, 0.2, 0.1 and 0.3, respectively. Consider the experiment where you choose a coin at random and flip it for three times. Let $E$ be the event that 3 heads were observed. Compute $P(\\text{fair coin}|E)$.\n",
    "\n",
    "*Note: to encode specific probabilily of flipping heads, you may consider using the function ```numpy.random.choice``` by controlling the parameter ```p```.*"
   ]
  },
  {
   "cell_type": "code",
   "execution_count": 25,
   "metadata": {},
   "outputs": [
    {
     "name": "stdout",
     "output_type": "stream",
     "text": [
      "4112\n",
      "0.04112\n"
     ]
    }
   ],
   "source": [
    "coins = ['fair','fair','8unfair','2unfair','1unfair','3unfair']\n",
    "fair = ['h','t']\n",
    "eightcoin = ['h','h','h','h','t']\n",
    "twocoin = ['h','t','t','t','t']\n",
    "onecoin= ['h','t','t','t','t','t','t','t','t','t']\n",
    "threecoin = ['h','h','h','t','t','t','t','t','t','t',]\n",
    "count = 0\n",
    "prob = 0\n",
    "probheadsfair=0\n",
    "num_simulations = 100000\n",
    "for t in range(num_simulations):\n",
    "    count = 0\n",
    "    index = random.randint(0,5)\n",
    "    if coins[index] == 'fair':\n",
    "        for i in range(0,3):\n",
    "            ran =random.randint(0,1)\n",
    "            if fair[ran] == 'h':\n",
    "                count += 1\n",
    "        if count == 3:\n",
    "            probheadsfair += 1\n",
    "            prob +=1\n",
    "        \n",
    "    elif coins[index] == '8unfair':\n",
    "        for i in range(0,3):\n",
    "            ran = random.randint(0,4)\n",
    "            if eightcoin[ran] == 'h':\n",
    "                count += 1\n",
    "        if count == 3:\n",
    "            prob += 1\n",
    "    elif coins[index] == '2unfair':\n",
    "        for i in range(0,3):\n",
    "            ran = random.randint(0,4)\n",
    "            if twocoin[ran] == 'h':\n",
    "                count += 1\n",
    "        if count == 3:\n",
    "            prob += 1\n",
    "    elif coins[index] == '1unfair':\n",
    "        for i in range(0,3):\n",
    "            ran = random.randint(0,9)\n",
    "            if onecoin[ran] == 'h':\n",
    "                count += 1\n",
    "        if count == 3:\n",
    "            prob += 1\n",
    "    elif coins[index] == '3unfair':\n",
    "        for i in range(0,3):\n",
    "            ran = random.randint(0,9)\n",
    "            if threecoin[ran] == 'h':\n",
    "                count += 1\n",
    "        if count == 3:\n",
    "            prob += 1\n",
    "print(probheadsfair)\n",
    "print(probheadsfair/num_simulations)"
   ]
  },
  {
   "cell_type": "code",
   "execution_count": 26,
   "metadata": {},
   "outputs": [
    {
     "name": "stdout",
     "output_type": "stream",
     "text": [
      "0.04132\n"
     ]
    }
   ],
   "source": [
    "#simplified\n",
    "#realized I did not need that much code\n",
    "\n",
    "coins = ['fair','fair','8unfair','2unfair','1unfair','3unfair']\n",
    "fair = ['h','t']\n",
    "count = 0\n",
    "probheadsfair=0\n",
    "num_simulations = 100000\n",
    "for t in range(num_simulations):\n",
    "    count = 0\n",
    "    index = random.randint(0,5)\n",
    "    if coins[index] == 'fair':\n",
    "        for i in range(0,3):\n",
    "            ran =random.randint(0,1)\n",
    "            if fair[ran] == 'h':\n",
    "                count += 1\n",
    "        if count == 3:\n",
    "            probheadsfair += 1\n",
    "        \n",
    "    else:\n",
    "        pass\n",
    "print(probheadsfair/num_simulations)"
   ]
  },
  {
   "cell_type": "markdown",
   "metadata": {},
   "source": [
    "# Submission Instructions:\n",
    "\n",
    "When you are done with the exercises in this notebook, upload a PDF or your results to Canvas.  To create the PDF with your code and results, you can use the following procedure:\n",
    "\n",
    "1. Go to Kernel\n",
    "2. Click Restart and Run All\n",
    "3. Check over the notebook to make sure everything still looks right\n",
    "\n",
    "**At this point, you may be able to just choose \"Print\" from JupyterLab's File menu and then print to PDF (OS dependent). If everything is correct in the PDF version, then upload that PDF to the assignment in Canvas.**\n",
    "\n",
    "**If your PDF is missing any of your outputs, you can use the following procedure:**\n",
    "\n",
    "4. Next, click File at the top on the tool bar below Jupyter icon\n",
    "5. Click Save and Export Notebook as... and choose HTML\n",
    "6. The HTML file will either open in a new tab/window or be downloaded to your Downloads folder. Open it if it is in the Downloads folder\n",
    "7. Print the HTML file to PDF (how to do this is OS dependent). Make sure to save it to somewhere you can find it\n",
    "8. Open the PDF to make sure that everything looks right and that nothing is cut off\n",
    "9. Upload both the PDF and ipynb files to the Canvas assignment"
   ]
  },
  {
   "cell_type": "code",
   "execution_count": null,
   "metadata": {},
   "outputs": [],
   "source": []
  }
 ],
 "metadata": {
  "kernelspec": {
   "display_name": "Python 3 (ipykernel)",
   "language": "python",
   "name": "python3"
  },
  "language_info": {
   "codemirror_mode": {
    "name": "ipython",
    "version": 3
   },
   "file_extension": ".py",
   "mimetype": "text/x-python",
   "name": "python",
   "nbconvert_exporter": "python",
   "pygments_lexer": "ipython3",
   "version": "3.12.4"
  },
  "latex_envs": {
   "LaTeX_envs_menu_present": true,
   "autoclose": false,
   "autocomplete": true,
   "bibliofile": "biblio.bib",
   "cite_by": "apalike",
   "current_citInitial": 1,
   "eqLabelWithNumbers": true,
   "eqNumInitial": 1,
   "hotkeys": {
    "equation": "Ctrl-E",
    "itemize": "Ctrl-I"
   },
   "labels_anchors": false,
   "latex_user_defs": false,
   "report_style_numbering": false,
   "user_envs_cfg": false
  },
  "varInspector": {
   "cols": {
    "lenName": 16,
    "lenType": 16,
    "lenVar": 40
   },
   "kernels_config": {
    "python": {
     "delete_cmd_postfix": "",
     "delete_cmd_prefix": "del ",
     "library": "var_list.py",
     "varRefreshCmd": "print(var_dic_list())"
    },
    "r": {
     "delete_cmd_postfix": ") ",
     "delete_cmd_prefix": "rm(",
     "library": "var_list.r",
     "varRefreshCmd": "cat(var_dic_list()) "
    }
   },
   "types_to_exclude": [
    "module",
    "function",
    "builtin_function_or_method",
    "instance",
    "_Feature"
   ],
   "window_display": false
  }
 },
 "nbformat": 4,
 "nbformat_minor": 4
}
